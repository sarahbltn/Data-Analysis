{
 "cells": [
  {
   "cell_type": "markdown",
   "metadata": {},
   "source": [
    "### Apply:\n",
    "* Kmeans (random init)\n",
    "* Kmeans ++\n",
    "* DBSCAN"
   ]
  },
  {
   "cell_type": "code",
   "execution_count": 2,
   "metadata": {},
   "outputs": [],
   "source": [
    "import pandas as pd\n",
    "import numpy as np\n",
    "import matplotlib.pyplot as plt\n",
    "from sklearn.cluster import KMeans\n",
    "from sklearn.preprocessing import LabelEncoder\n",
    "from sklearn.cluster import DBSCAN\n",
    "from sklearn.metrics import silhouette_score"
   ]
  },
  {
   "cell_type": "code",
   "execution_count": null,
   "metadata": {},
   "outputs": [
    {
     "data": {
      "text/html": [
       "<div>\n",
       "<style scoped>\n",
       "    .dataframe tbody tr th:only-of-type {\n",
       "        vertical-align: middle;\n",
       "    }\n",
       "\n",
       "    .dataframe tbody tr th {\n",
       "        vertical-align: top;\n",
       "    }\n",
       "\n",
       "    .dataframe thead th {\n",
       "        text-align: right;\n",
       "    }\n",
       "</style>\n",
       "<table border=\"1\" class=\"dataframe\">\n",
       "  <thead>\n",
       "    <tr style=\"text-align: right;\">\n",
       "      <th></th>\n",
       "      <th>id</th>\n",
       "      <th>name</th>\n",
       "      <th>host_id</th>\n",
       "      <th>host_name</th>\n",
       "      <th>neighbourhood_group</th>\n",
       "      <th>neighbourhood</th>\n",
       "      <th>latitude</th>\n",
       "      <th>longitude</th>\n",
       "      <th>room_type</th>\n",
       "      <th>price</th>\n",
       "      <th>minimum_nights</th>\n",
       "      <th>number_of_reviews</th>\n",
       "      <th>last_review</th>\n",
       "      <th>reviews_per_month</th>\n",
       "      <th>calculated_host_listings_count</th>\n",
       "      <th>availability_365</th>\n",
       "      <th>number_of_reviews_ltm</th>\n",
       "      <th>license</th>\n",
       "    </tr>\n",
       "  </thead>\n",
       "  <tbody>\n",
       "    <tr>\n",
       "      <th>7024</th>\n",
       "      <td>1049537442224124625</td>\n",
       "      <td>Bed and breakfast in Hong Kong · ★New · 1 bedr...</td>\n",
       "      <td>6763017</td>\n",
       "      <td>Rina</td>\n",
       "      <td>NaN</td>\n",
       "      <td>Central &amp; Western</td>\n",
       "      <td>22.284917</td>\n",
       "      <td>114.151529</td>\n",
       "      <td>Private room</td>\n",
       "      <td>1737.0</td>\n",
       "      <td>1</td>\n",
       "      <td>0</td>\n",
       "      <td>NaN</td>\n",
       "      <td>NaN</td>\n",
       "      <td>42</td>\n",
       "      <td>269</td>\n",
       "      <td>0</td>\n",
       "      <td>NaN</td>\n",
       "    </tr>\n",
       "    <tr>\n",
       "      <th>7025</th>\n",
       "      <td>1049697550164824387</td>\n",
       "      <td>Rental unit in Hong Kong · ★New · 1 bedroom · ...</td>\n",
       "      <td>353326613</td>\n",
       "      <td>Savi</td>\n",
       "      <td>NaN</td>\n",
       "      <td>Wan Chai</td>\n",
       "      <td>22.282580</td>\n",
       "      <td>114.182910</td>\n",
       "      <td>Private room</td>\n",
       "      <td>510.0</td>\n",
       "      <td>28</td>\n",
       "      <td>0</td>\n",
       "      <td>NaN</td>\n",
       "      <td>NaN</td>\n",
       "      <td>50</td>\n",
       "      <td>242</td>\n",
       "      <td>0</td>\n",
       "      <td>NaN</td>\n",
       "    </tr>\n",
       "    <tr>\n",
       "      <th>7026</th>\n",
       "      <td>1049718383474111305</td>\n",
       "      <td>Rental unit in Hong Kong · ★New · 1 bedroom · ...</td>\n",
       "      <td>353326613</td>\n",
       "      <td>Savi</td>\n",
       "      <td>NaN</td>\n",
       "      <td>Wan Chai</td>\n",
       "      <td>22.282446</td>\n",
       "      <td>114.184767</td>\n",
       "      <td>Private room</td>\n",
       "      <td>476.0</td>\n",
       "      <td>28</td>\n",
       "      <td>0</td>\n",
       "      <td>NaN</td>\n",
       "      <td>NaN</td>\n",
       "      <td>50</td>\n",
       "      <td>247</td>\n",
       "      <td>0</td>\n",
       "      <td>NaN</td>\n",
       "    </tr>\n",
       "    <tr>\n",
       "      <th>7027</th>\n",
       "      <td>1049722164048500871</td>\n",
       "      <td>Rental unit in Hong Kong · ★New · 1 bedroom · ...</td>\n",
       "      <td>353326613</td>\n",
       "      <td>Savi</td>\n",
       "      <td>NaN</td>\n",
       "      <td>Wan Chai</td>\n",
       "      <td>22.280790</td>\n",
       "      <td>114.186290</td>\n",
       "      <td>Private room</td>\n",
       "      <td>408.0</td>\n",
       "      <td>28</td>\n",
       "      <td>0</td>\n",
       "      <td>NaN</td>\n",
       "      <td>NaN</td>\n",
       "      <td>50</td>\n",
       "      <td>244</td>\n",
       "      <td>0</td>\n",
       "      <td>NaN</td>\n",
       "    </tr>\n",
       "    <tr>\n",
       "      <th>7028</th>\n",
       "      <td>1049754221555693847</td>\n",
       "      <td>Rental unit in Hong Kong · ★New · 1 bedroom · ...</td>\n",
       "      <td>47887152</td>\n",
       "      <td>Oceana</td>\n",
       "      <td>NaN</td>\n",
       "      <td>Yau Tsim Mong</td>\n",
       "      <td>22.298320</td>\n",
       "      <td>114.171260</td>\n",
       "      <td>Private room</td>\n",
       "      <td>765.0</td>\n",
       "      <td>1</td>\n",
       "      <td>0</td>\n",
       "      <td>NaN</td>\n",
       "      <td>NaN</td>\n",
       "      <td>5</td>\n",
       "      <td>181</td>\n",
       "      <td>0</td>\n",
       "      <td>NaN</td>\n",
       "    </tr>\n",
       "  </tbody>\n",
       "</table>\n",
       "</div>"
      ],
      "text/plain": [
       "                       id                                               name  \\\n",
       "7024  1049537442224124625  Bed and breakfast in Hong Kong · ★New · 1 bedr...   \n",
       "7025  1049697550164824387  Rental unit in Hong Kong · ★New · 1 bedroom · ...   \n",
       "7026  1049718383474111305  Rental unit in Hong Kong · ★New · 1 bedroom · ...   \n",
       "7027  1049722164048500871  Rental unit in Hong Kong · ★New · 1 bedroom · ...   \n",
       "7028  1049754221555693847  Rental unit in Hong Kong · ★New · 1 bedroom · ...   \n",
       "\n",
       "        host_id host_name  neighbourhood_group      neighbourhood   latitude  \\\n",
       "7024    6763017      Rina                  NaN  Central & Western  22.284917   \n",
       "7025  353326613      Savi                  NaN           Wan Chai  22.282580   \n",
       "7026  353326613      Savi                  NaN           Wan Chai  22.282446   \n",
       "7027  353326613      Savi                  NaN           Wan Chai  22.280790   \n",
       "7028   47887152    Oceana                  NaN      Yau Tsim Mong  22.298320   \n",
       "\n",
       "       longitude     room_type   price  minimum_nights  number_of_reviews  \\\n",
       "7024  114.151529  Private room  1737.0               1                  0   \n",
       "7025  114.182910  Private room   510.0              28                  0   \n",
       "7026  114.184767  Private room   476.0              28                  0   \n",
       "7027  114.186290  Private room   408.0              28                  0   \n",
       "7028  114.171260  Private room   765.0               1                  0   \n",
       "\n",
       "     last_review  reviews_per_month  calculated_host_listings_count  \\\n",
       "7024         NaN                NaN                              42   \n",
       "7025         NaN                NaN                              50   \n",
       "7026         NaN                NaN                              50   \n",
       "7027         NaN                NaN                              50   \n",
       "7028         NaN                NaN                               5   \n",
       "\n",
       "      availability_365  number_of_reviews_ltm  license  \n",
       "7024               269                      0      NaN  \n",
       "7025               242                      0      NaN  \n",
       "7026               247                      0      NaN  \n",
       "7027               244                      0      NaN  \n",
       "7028               181                      0      NaN  "
      ]
     },
     "execution_count": 39,
     "metadata": {},
     "output_type": "execute_result"
    }
   ],
   "source": [
    "df = pd.read_csv('../data/raw/listings.csv')\n",
    "df.tail()"
   ]
  },
  {
   "cell_type": "code",
   "execution_count": null,
   "metadata": {},
   "outputs": [
    {
     "data": {
      "text/plain": [
       "id                                   0\n",
       "name                                 0\n",
       "host_id                              0\n",
       "host_name                            0\n",
       "neighbourhood_group               7029\n",
       "neighbourhood                        0\n",
       "latitude                             0\n",
       "longitude                            0\n",
       "room_type                            0\n",
       "price                              477\n",
       "minimum_nights                       0\n",
       "number_of_reviews                    0\n",
       "last_review                       3488\n",
       "reviews_per_month                 3488\n",
       "calculated_host_listings_count       0\n",
       "availability_365                     0\n",
       "number_of_reviews_ltm                0\n",
       "license                           7029\n",
       "dtype: int64"
      ]
     },
     "execution_count": 40,
     "metadata": {},
     "output_type": "execute_result"
    }
   ],
   "source": [
    "df.isna().sum()"
   ]
  },
  {
   "cell_type": "markdown",
   "metadata": {},
   "source": [
    "### Data Cleaning"
   ]
  },
  {
   "cell_type": "code",
   "execution_count": null,
   "metadata": {},
   "outputs": [
    {
     "ename": "NameError",
     "evalue": "name 'df' is not defined",
     "output_type": "error",
     "traceback": [
      "\u001b[1;31m---------------------------------------------------------------------------\u001b[0m",
      "\u001b[1;31mNameError\u001b[0m                                 Traceback (most recent call last)",
      "Cell \u001b[1;32mIn[1], line 1\u001b[0m\n\u001b[1;32m----> 1\u001b[0m df \u001b[38;5;241m=\u001b[39m \u001b[43mdf\u001b[49m\u001b[38;5;241m.\u001b[39mdrop([\u001b[38;5;124m'\u001b[39m\u001b[38;5;124mneighbourhood_group\u001b[39m\u001b[38;5;124m'\u001b[39m, \u001b[38;5;124m'\u001b[39m\u001b[38;5;124mlicense\u001b[39m\u001b[38;5;124m'\u001b[39m, \u001b[38;5;124m'\u001b[39m\u001b[38;5;124mlast_review\u001b[39m\u001b[38;5;124m'\u001b[39m], axis\u001b[38;5;241m=\u001b[39m\u001b[38;5;241m1\u001b[39m)\n\u001b[0;32m      2\u001b[0m df\u001b[38;5;241m.\u001b[39mhead()\n",
      "\u001b[1;31mNameError\u001b[0m: name 'df' is not defined"
     ]
    }
   ],
   "source": [
    "df = df.drop(['neighbourhood_group', 'license', 'last_review'], axis=1)\n",
    "df.head()"
   ]
  },
  {
   "cell_type": "code",
   "execution_count": null,
   "metadata": {},
   "outputs": [
    {
     "data": {
      "text/plain": [
       "(31.572125236206023, 1366.7720505866012)"
      ]
     },
     "execution_count": 42,
     "metadata": {},
     "output_type": "execute_result"
    }
   ],
   "source": [
    "df['price'].skew(), df['price'].kurt()"
   ]
  },
  {
   "cell_type": "code",
   "execution_count": null,
   "metadata": {},
   "outputs": [
    {
     "data": {
      "text/plain": [
       "499.0"
      ]
     },
     "execution_count": 43,
     "metadata": {},
     "output_type": "execute_result"
    }
   ],
   "source": [
    "#We are going to use median to replace nans in the price columns, because we have a high kurtosis \n",
    "#Which means that we have a lot of higher values, and the mean would not be accurate.\n",
    "price_median = df['price'].median()\n",
    "price_median"
   ]
  },
  {
   "cell_type": "code",
   "execution_count": null,
   "metadata": {},
   "outputs": [],
   "source": [
    "df['price'] = df['price'].fillna(price_median)"
   ]
  },
  {
   "cell_type": "code",
   "execution_count": null,
   "metadata": {},
   "outputs": [
    {
     "data": {
      "text/plain": [
       "0    2023-12-04\n",
       "Name: last_review, dtype: object"
      ]
     },
     "execution_count": 45,
     "metadata": {},
     "output_type": "execute_result"
    }
   ],
   "source": [
    "df['last_review'].mode()"
   ]
  }
 ],
 "metadata": {
  "kernelspec": {
   "display_name": "iteso",
   "language": "python",
   "name": "python3"
  },
  "language_info": {
   "codemirror_mode": {
    "name": "ipython",
    "version": 3
   },
   "file_extension": ".py",
   "mimetype": "text/x-python",
   "name": "python",
   "nbconvert_exporter": "python",
   "pygments_lexer": "ipython3",
   "version": "3.10.13"
  }
 },
 "nbformat": 4,
 "nbformat_minor": 2
}

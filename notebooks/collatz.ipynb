{
 "cells": [
  {
   "cell_type": "code",
   "execution_count": 7,
   "metadata": {},
   "outputs": [],
   "source": [
    "#Collatz Activity"
   ]
  },
  {
   "cell_type": "code",
   "execution_count": 8,
   "metadata": {},
   "outputs": [],
   "source": [
    "def collatz(i):\n",
    "    seq = [i]\n",
    "\n",
    "    while(i>1):\n",
    "        #even\n",
    "        if(i % 2 == 0):\n",
    "            i = i/2\n",
    "            seq.append\n",
    "        else:\n",
    "            i = 3 * i + 1\n",
    "            seq.append(i)\n",
    "    return seq, len(seq)"
   ]
  },
  {
   "cell_type": "code",
   "execution_count": 9,
   "metadata": {},
   "outputs": [
    {
     "name": "stdout",
     "output_type": "stream",
     "text": [
      "Collatz sequence [1]\n",
      "Collatz length 1\n",
      "Collatz sequence [1]\n",
      "Collatz length 1\n",
      "Collatz sequence [3, 10, 16.0]\n",
      "Collatz length 3\n",
      "Collatz sequence [3, 10, 16.0]\n",
      "Collatz length 3\n",
      "Collatz sequence [3, 10, 16.0]\n",
      "Collatz length 3\n"
     ]
    }
   ],
   "source": [
    "a = int(input(\"First number: \"))\n",
    "b = int(input(\"Second number (greater than the first one): \"))\n",
    "\n",
    "#longest collatz so far\n",
    "x_length = 0\n",
    "x_seq = []\n",
    "\n",
    "for i in range(a, b+1):\n",
    "    seq, length = collatz(i)\n",
    "\n",
    "    if length > x_length:\n",
    "        #new longest\n",
    "        x_length = length \n",
    "        x_seq = seq\n",
    "\n",
    "    print(\"Collatz sequence\", x_seq)\n",
    "    print(\"Collatz length\", x_length)\n"
   ]
  }
 ],
 "metadata": {
  "kernelspec": {
   "display_name": "iteso",
   "language": "python",
   "name": "python3"
  },
  "language_info": {
   "codemirror_mode": {
    "name": "ipython",
    "version": 3
   },
   "file_extension": ".py",
   "mimetype": "text/x-python",
   "name": "python",
   "nbconvert_exporter": "python",
   "pygments_lexer": "ipython3",
   "version": "3.10.13"
  }
 },
 "nbformat": 4,
 "nbformat_minor": 2
}

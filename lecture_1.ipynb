{
  "nbformat": 4,
  "nbformat_minor": 0,
  "metadata": {
    "colab": {
      "provenance": [],
      "authorship_tag": "ABX9TyOnNfpzNDJIlG4TzYUTq4pP",
      "include_colab_link": true
    },
    "kernelspec": {
      "name": "python3",
      "display_name": "Python 3"
    },
    "language_info": {
      "name": "python"
    }
  },
  "cells": [
    {
      "cell_type": "markdown",
      "metadata": {
        "id": "view-in-github",
        "colab_type": "text"
      },
      "source": [
        "<a href=\"https://colab.research.google.com/github/sarahbltn/Data-Analysis/blob/main/lecture_1.ipynb\" target=\"_parent\"><img src=\"https://colab.research.google.com/assets/colab-badge.svg\" alt=\"Open In Colab\"/></a>"
      ]
    },
    {
      "cell_type": "code",
      "execution_count": 1,
      "metadata": {
        "colab": {
          "base_uri": "https://localhost:8080/"
        },
        "id": "rQrXIh81FYZq",
        "outputId": "5df9fa57-2a0f-457d-b36a-b7310d0f25e3"
      },
      "outputs": [
        {
          "output_type": "stream",
          "name": "stdout",
          "text": [
            "Hello world\n"
          ]
        }
      ],
      "source": [
        "print(\"Hello world\")"
      ]
    },
    {
      "cell_type": "markdown",
      "source": [
        "#Titulo\n",
        "##Subtitulo\n",
        "###Subsubtitulo"
      ],
      "metadata": {
        "id": "FmDkL_7cGSJh"
      }
    },
    {
      "cell_type": "markdown",
      "source": [
        "$X_a = c + b + (s^2)/2$\n",
        "\n",
        "$$\n",
        "P(x)= p(x/y)\n",
        "$$"
      ],
      "metadata": {
        "id": "3L3DZGvzHmI4"
      }
    }
  ]
}